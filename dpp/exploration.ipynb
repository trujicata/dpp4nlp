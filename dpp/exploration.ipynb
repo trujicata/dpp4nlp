{
 "cells": [
  {
   "cell_type": "code",
   "execution_count": 22,
   "metadata": {},
   "outputs": [],
   "source": [
    "import numpy as np\n",
    "import torch \n",
    "# Example matrix\n",
    "matrix_size = 100\n",
    "A = np.random.rand(matrix_size, matrix_size)\n",
    "data = np.load(\"/Users/dima/Documents/dpp4nlp/data/embeddings_tensor_50.npy\")"
   ]
  },
  {
   "cell_type": "code",
   "execution_count": 23,
   "metadata": {},
   "outputs": [],
   "source": [
    "def similarity(u, v):\n",
    "    dot_product_uv = np.dot(u, v)\n",
    "    norm_u = np.linalg.norm(u)\n",
    "    norm_v = np.linalg.norm(v)\n",
    "    \n",
    "    similarity_uv = dot_product_uv / (norm_u * norm_v)\n",
    "    return similarity_uv\n",
    "\n",
    "def kernel_matrix(data):\n",
    "    n = len(data)\n",
    "    K = np.zeros((n, n))\n",
    "    for i in range(n):\n",
    "        for j in range(n):\n",
    "            K[i, j] = similarity(data[i], data[j])\n",
    "    return K\n",
    "\n",
    "def select_eigenvectors(eigenvalues, eigenvectors):\n",
    "    selected_eigenvalues = []\n",
    "    selected_eigenvectors = []\n",
    "\n",
    "    for eigenvalue, eigenvector in zip(eigenvalues, eigenvectors.T):\n",
    "        prob = eigenvalue / (eigenvalue + 1)\n",
    "        if np.random.rand() < prob:\n",
    "            selected_eigenvalues.append(eigenvalue)\n",
    "            selected_eigenvectors.append(eigenvector)\n",
    "    \n",
    "    return np.array(selected_eigenvalues), np.array(selected_eigenvectors).T\n",
    "\n",
    "\n",
    "def select_items(eigenvectors, items):\n",
    "    subset_Y = []\n",
    "\n",
    "    for eigenvector in eigenvectors.T:\n",
    "        # Calculate squared magnitude of components\n",
    "        squared_magnitude = np.square(np.abs(eigenvector))\n",
    "\n",
    "        # Normalize squared magnitudes to probabilities\n",
    "        probabilities = squared_magnitude / np.sum(squared_magnitude)\n",
    "\n",
    "        # Select an item based on probabilities\n",
    "        selected_index = np.random.choice(len(eigenvector), p=probabilities)\n",
    "        selected_item = items[selected_index]\n",
    "        subset_Y.append(selected_item)\n",
    "    \n",
    "    return subset_Y\n",
    "\n",
    "def probability_of_selection(K, Y):\n",
    "    # Extract submatrix Ky\n",
    "    Ky = K[Y][:, Y]\n",
    "    \n",
    "    # Compute determinants\n",
    "    det_Ky = np.linalg.det(Ky)\n",
    "    det_K_plus_I = np.linalg.det(K + np.eye(K.shape[0]))  # Adding identity matrix\n",
    "    \n",
    "    # Compute probability of selection\n",
    "    probability = det_Ky / det_K_plus_I\n",
    "    \n",
    "    return probability\n"
   ]
  },
  {
   "cell_type": "code",
   "execution_count": 24,
   "metadata": {},
   "outputs": [],
   "source": [
    "K = kernel_matrix(data)\n",
    "eigenvalues, eigenvectors = np.linalg.eig(K)\n",
    "selected_val, selected_vec = select_eigenvectors(eigenvalues, eigenvectors)\n",
    "final_vecs = select_items(selected_vec, data)\n"
   ]
  },
  {
   "cell_type": "code",
   "execution_count": 25,
   "metadata": {},
   "outputs": [
    {
     "data": {
      "text/plain": [
       "11"
      ]
     },
     "execution_count": 25,
     "metadata": {},
     "output_type": "execute_result"
    }
   ],
   "source": [
    "len(final_vecs)"
   ]
  },
  {
   "cell_type": "code",
   "execution_count": 29,
   "metadata": {},
   "outputs": [
    {
     "data": {
      "text/plain": [
       "[<matplotlib.lines.Line2D at 0x14b361960>]"
      ]
     },
     "execution_count": 29,
     "metadata": {},
     "output_type": "execute_result"
    },
    {
     "data": {
      "image/png": "[encoded data removed]",
      "text/plain": [
       "<Figure size 640x480 with 1 Axes>"
      ]
     },
     "metadata": {},
     "output_type": "display_data"
    }
   ],
   "source": [
    "import matplotlib.pyplot as plt\n",
    "\n",
    "\n",
    "fig, ax = plt.subplots()\n",
    "ax.set_yscale('log')\n",
    "plt.plot(eigenvalues)"
   ]
  }
 ],
 "metadata": {
  "kernelspec": {
   "display_name": "priv",
   "language": "python",
   "name": "python3"
  },
  "language_info": {
   "codemirror_mode": {
    "name": "ipython",
    "version": 3
   },
   "file_extension": ".py",
   "mimetype": "text/x-python",
   "name": "python",
   "nbconvert_exporter": "python",
   "pygments_lexer": "ipython3",
   "version": "3.10.13"
  }
 },
 "nbformat": 4,
 "nbformat_minor": 2
}
