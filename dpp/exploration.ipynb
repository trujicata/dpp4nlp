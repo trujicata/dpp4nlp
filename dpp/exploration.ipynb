{
 "cells": [
  {
   "cell_type": "code",
   "execution_count": 16,
   "metadata": {},
   "outputs": [],
   "source": [
    "import numpy as np\n",
    "\n",
    "# Example matrix\n",
    "matrix_size = 100\n",
    "A = np.random.rand(matrix_size, matrix_size)\n"
   ]
  },
  {
   "cell_type": "code",
   "execution_count": 19,
   "metadata": {},
   "outputs": [],
   "source": [
    "def similarity(u, v):\n",
    "    dot_product_uv = np.dot(u, v)\n",
    "    norm_u = np.linalg.norm(u)\n",
    "    norm_v = np.linalg.norm(v)\n",
    "    \n",
    "    similarity_uv = dot_product_uv / (norm_u * norm_v)\n",
    "    return similarity_uv\n",
    "\n",
    "def kernel_matrix(data):\n",
    "    n = len(data)\n",
    "    K = np.zeros((n, n))\n",
    "    for i in range(n):\n",
    "        for j in range(n):\n",
    "            K[i, j] = similarity(data[i], data[j])\n",
    "    return K\n",
    "\n",
    "def select_eigenvectors(eigenvalues, eigenvectors):\n",
    "    selected_eigenvalues = []\n",
    "    selected_eigenvectors = []\n",
    "\n",
    "    for eigenvalue, eigenvector in zip(eigenvalues, eigenvectors.T):\n",
    "        prob = eigenvalue / (eigenvalue + 1)\n",
    "        if np.random.rand() < prob:\n",
    "            selected_eigenvalues.append(eigenvalue)\n",
    "            selected_eigenvectors.append(eigenvector)\n",
    "    \n",
    "    return np.array(selected_eigenvalues), np.array(selected_eigenvectors).T\n",
    "\n",
    "\n",
    "def select_items(eigenvectors, items):\n",
    "    subset_Y = []\n",
    "\n",
    "    for eigenvector in eigenvectors.T:\n",
    "        # Calculate squared magnitude of components\n",
    "        squared_magnitude = np.square(np.abs(eigenvector))\n",
    "\n",
    "        # Normalize squared magnitudes to probabilities\n",
    "        probabilities = squared_magnitude / np.sum(squared_magnitude)\n",
    "\n",
    "        # Select an item based on probabilities\n",
    "        selected_index = np.random.choice(len(eigenvector), p=probabilities)\n",
    "        selected_item = items[selected_index]\n",
    "        subset_Y.append(selected_item)\n",
    "    \n",
    "    return subset_Y\n",
    "\n",
    "def probability_of_selection(K, Y):\n",
    "    # Extract submatrix Ky\n",
    "    Ky = K[Y][:, Y]\n",
    "    \n",
    "    # Compute determinants\n",
    "    det_Ky = np.linalg.det(Ky)\n",
    "    det_K_plus_I = np.linalg.det(K + np.eye(K.shape[0]))  # Adding identity matrix\n",
    "    \n",
    "    # Compute probability of selection\n",
    "    probability = det_Ky / det_K_plus_I\n",
    "    \n",
    "    return probability\n"
   ]
  },
  {
   "cell_type": "code",
   "execution_count": 20,
   "metadata": {},
   "outputs": [
    {
     "data": {
      "text/plain": [
       "[array([-0.10119966,  0.04764335, -0.01675775,  0.03043598,  0.04270756,\n",
       "        -0.01059905, -0.00869511,  0.06374987, -0.14766818,  0.12702979,\n",
       "        -0.14787882,  0.18693363,  0.11788976,  0.17682238,  0.01530004,\n",
       "        -0.02312163]),\n",
       " array([-0.09639277,  0.23703909, -0.25844059, -0.07433563,  0.02626951,\n",
       "         0.0868513 , -0.03385396,  0.07299953, -0.07503579,  0.10810952,\n",
       "         0.01611947, -0.02924643,  0.04176362,  0.1161142 ,  0.10216367,\n",
       "        -0.14052305]),\n",
       " array([-0.09946827, -0.11921655,  0.21431509,  0.01916777, -0.06285888,\n",
       "        -0.06369732,  0.03677222, -0.00707251, -0.04871684, -0.11628307,\n",
       "         0.05518569, -0.06121323, -0.07564903, -0.08793273,  0.02403908,\n",
       "         0.0157797 ]),\n",
       " array([-0.10061271, -0.1203286 , -0.07898421, -0.09126813,  0.0516055 ,\n",
       "        -0.04933949,  0.07895369, -0.03857415, -0.04562289,  0.01196548,\n",
       "         0.01027795, -0.00983606, -0.08142751,  0.17287675,  0.12722317,\n",
       "        -0.20775806]),\n",
       " array([-0.10157696,  0.04199497, -0.1996557 ,  0.00882358,  0.04928698,\n",
       "        -0.10271284, -0.04614561, -0.08240931,  0.10540425, -0.15772783,\n",
       "         0.22781359,  0.10424072,  0.05223818, -0.06899576,  0.09768716,\n",
       "         0.00574051]),\n",
       " array([-0.09812238, -0.05119899, -0.05323473,  0.02308082,  0.04178628,\n",
       "        -0.12211025,  0.01998655, -0.01690514, -0.17054093,  0.08666702,\n",
       "         0.02544196,  0.0095815 , -0.08319315,  0.15042096, -0.00126714,\n",
       "         0.18721853]),\n",
       " array([-0.10016766,  0.07215336,  0.11909346,  0.05174799, -0.09084893,\n",
       "        -0.07440683, -0.13562191,  0.08488832,  0.18223149,  0.20769429,\n",
       "         0.06666811, -0.00809789, -0.16427045, -0.0997495 , -0.12679074,\n",
       "         0.07183333]),\n",
       " array([-0.10224372,  0.01332594, -0.06971049, -0.02098966, -0.25191337,\n",
       "        -0.11518325,  0.02305966, -0.16022961, -0.02456232,  0.09651291,\n",
       "         0.16123974,  0.07249014,  0.0115807 , -0.15092602, -0.26317213,\n",
       "         0.210619  ]),\n",
       " array([-0.09962641, -0.08049274, -0.06876483,  0.10489367, -0.14613058,\n",
       "         0.0516483 , -0.07017774,  0.07433075, -0.19545737, -0.1449533 ,\n",
       "         0.02239742, -0.14658754,  0.02041136,  0.08613829,  0.08338896,\n",
       "         0.12643208]),\n",
       " array([-0.10219451, -0.05499099,  0.00219027, -0.02595987,  0.04259211,\n",
       "        -0.08269812, -0.04869309, -0.04877797,  0.12027399,  0.12460815,\n",
       "        -0.14428106, -0.13073032,  0.16283764,  0.07442439,  0.22890588,\n",
       "         0.09388529]),\n",
       " array([-0.10107253, -0.00108191, -0.0064453 , -0.02023637, -0.1373567 ,\n",
       "        -0.13938803,  0.0548251 ,  0.15363937, -0.03955897, -0.09897677,\n",
       "        -0.11325282,  0.02937973,  0.11007186, -0.10435879, -0.17707243,\n",
       "         0.10545715]),\n",
       " array([-1.00694010e-01, -1.15070578e-01,  4.07316970e-02,  5.32875940e-03,\n",
       "         1.01028828e-01,  4.55842888e-02, -9.34089913e-03,  1.99808642e-01,\n",
       "         6.60256379e-02,  2.37827197e-02,  1.66165268e-04,  7.65755188e-02,\n",
       "        -7.72470100e-02, -6.26085073e-03, -1.42602210e-01, -6.70716866e-02]),\n",
       " array([-0.09931791,  0.11139155,  0.01626775,  0.17003033, -0.1690722 ,\n",
       "         0.02963934,  0.09583221,  0.07326174, -0.05173238,  0.18490802,\n",
       "         0.01626375, -0.02107973, -0.1084632 ,  0.14603125,  0.08067475,\n",
       "        -0.02051555]),\n",
       " array([-0.09731391, -0.08620935,  0.08449093, -0.01244406, -0.04389255,\n",
       "         0.07968076,  0.10032507,  0.00651888,  0.10411991,  0.0826527 ,\n",
       "         0.10669382,  0.00133892,  0.13872024,  0.23639377,  0.08007086,\n",
       "         0.08096383]),\n",
       " array([-0.10224372,  0.01332594, -0.06971049, -0.02098966, -0.25191337,\n",
       "        -0.11518325,  0.02305966, -0.16022961, -0.02456232,  0.09651291,\n",
       "         0.16123974,  0.07249014,  0.0115807 , -0.15092602, -0.26317213,\n",
       "         0.210619  ]),\n",
       " array([-0.09453359,  0.28465965, -0.045615  , -0.01064503, -0.02510407,\n",
       "        -0.0852856 , -0.07629916,  0.00150297,  0.01665289, -0.02738046,\n",
       "        -0.07699195,  0.03818195, -0.16514685,  0.00095037, -0.07236516,\n",
       "         0.12226528])]"
      ]
     },
     "execution_count": 20,
     "metadata": {},
     "output_type": "execute_result"
    }
   ],
   "source": [
    "K = kernel_matrix(A)\n",
    "eigenvalues, eigenvectors = np.linalg.eig(K)\n",
    "selected_val, selected_vec = select_eigenvectors(eigenvalues, eigenvectors)\n",
    "final_vecs = select_items(selected_vec)\n"
   ]
  },
  {
   "cell_type": "code",
   "execution_count": 22,
   "metadata": {},
   "outputs": [
    {
     "data": {
      "text/plain": [
       "16"
      ]
     },
     "execution_count": 22,
     "metadata": {},
     "output_type": "execute_result"
    }
   ],
   "source": [
    "len(final_vecs)"
   ]
  }
 ],
 "metadata": {
  "kernelspec": {
   "display_name": "priv",
   "language": "python",
   "name": "python3"
  },
  "language_info": {
   "codemirror_mode": {
    "name": "ipython",
    "version": 3
   },
   "file_extension": ".py",
   "mimetype": "text/x-python",
   "name": "python",
   "nbconvert_exporter": "python",
   "pygments_lexer": "ipython3",
   "version": "3.10.13"
  }
 },
 "nbformat": 4,
 "nbformat_minor": 2
}
